{
 "cells": [
  {
   "cell_type": "code",
   "execution_count": 55,
   "metadata": {},
   "outputs": [],
   "source": [
    "# speak Chinese during a Zoom meeting， attendees hear English"
   ]
  },
  {
   "cell_type": "code",
   "execution_count": 1,
   "metadata": {},
   "outputs": [],
   "source": [
    "import sys\n",
    "import os\n",
    "sys.path.append('..')"
   ]
  },
  {
   "cell_type": "code",
   "execution_count": 2,
   "metadata": {},
   "outputs": [
    {
     "name": "stdout",
     "output_type": "stream",
     "text": [
      "pygame 2.6.0 (SDL 2.28.4, Python 3.10.9)\n",
      "Hello from the pygame community. https://www.pygame.org/contribute.html\n"
     ]
    }
   ],
   "source": [
    "from ft.mic import recognize_speech_from_mic\n",
    "from ft.translate import translate_text\n",
    "from ft.tts import text_to_speech\n",
    "from ft.speaker import play_audio_zoom_in_memory\n"
   ]
  },
  {
   "cell_type": "code",
   "execution_count": 5,
   "metadata": {},
   "outputs": [],
   "source": [
    "def run():\n",
    "    # Recognize speech from microphone\n",
    "    chinese_text = recognize_speech_from_mic()\n",
    "\n",
    "    if chinese_text:\n",
    "        # Translate the recognized Chinese text to English\n",
    "        english_text = translate_text(chinese_text)\n",
    "        \n",
    "        # Convert the English text to speech\n",
    "        tts = text_to_speech(english_text)\n",
    "        \n",
    "        # Save the speech to a temporary file\n",
    "        temp_file = \"temp_speech.mp3\"\n",
    "        tts.save(temp_file)\n",
    "        \n",
    "        # Play the audio\n",
    "        play_audio_zoom_in_memory(temp_file)\n",
    "    else:\n",
    "        print(\"No speech detected or recognition failed.\")\n"
   ]
  },
  {
   "cell_type": "code",
   "execution_count": 6,
   "metadata": {},
   "outputs": [],
   "source": [
    "import speech_recognition as sr\n",
    "\n",
    "def recognize_speech_from_mic():\n",
    "    r = sr.Recognizer()\n",
    "    with sr.Microphone() as source:\n",
    "        print(\"Please speak...\")\n",
    "        audio = r.listen(source)\n",
    "        try:\n",
    "            # Recognize Chinese speech\n",
    "            text = r.recognize_google(audio, language=\"zh-CN\")\n",
    "            print(f\"Recognized: {text}\")\n",
    "            return text\n",
    "        except sr.UnknownValueError:\n",
    "            print(\"Speech recognition could not understand audio\")"
   ]
  },
  {
   "cell_type": "code",
   "execution_count": 12,
   "metadata": {},
   "outputs": [
    {
     "name": "stdout",
     "output_type": "stream",
     "text": [
      "Testing microphone...\n",
      "Initializing microphone...\n",
      "Microphone initialized. Adjusting for ambient noise...\n",
      "Please speak...\n",
      "Listening for audio...\n",
      "Audio captured successfully.\n",
      "Recognized: 你好你好你好你好测试测试测试测试\n",
      "你好你好你好你好测试测试测试测试\n"
     ]
    }
   ],
   "source": [
    "import speech_recognition as sr\n",
    "\n",
    "def recognize_speech_from_mic():\n",
    "    r = sr.Recognizer()\n",
    "    try:\n",
    "        print(\"Initializing microphone...\")\n",
    "        with sr.Microphone() as source:\n",
    "            print(\"Microphone initialized. Adjusting for ambient noise...\")\n",
    "            r.adjust_for_ambient_noise(source, duration=1)\n",
    "            print(\"Please speak...\")\n",
    "            \n",
    "            # Add a timeout to listen() to prevent indefinite blocking\n",
    "            print(\"Listening for audio...\")\n",
    "            # audio = r.listen(source, timeout=5, phrase_time_limit=5)\n",
    "            audio = r.listen(source)\n",
    "            print(\"Audio captured successfully.\")\n",
    "            \n",
    "            text = r.recognize_google(audio, language=\"zh-CN\")\n",
    "            print(f\"Recognized: {text}\")\n",
    "            return text\n",
    "    except sr.RequestError as e:\n",
    "        print(f\"Could not request results from Google Speech Recognition service; {e}\")\n",
    "    except sr.WaitTimeoutError:\n",
    "        print(\"Listening timed out. No speech detected.\")\n",
    "    except Exception as e:\n",
    "        print(f\"An error occurred: {e}\")\n",
    "    return None\n",
    "\n",
    "# Test the function\n",
    "print(\"Testing microphone...\")\n",
    "text = recognize_speech_from_mic()\n",
    "print(text)"
   ]
  },
  {
   "cell_type": "code",
   "execution_count": 7,
   "metadata": {},
   "outputs": [],
   "source": [
    "# recognize_speech_from_mic()"
   ]
  },
  {
   "cell_type": "code",
   "execution_count": 1,
   "metadata": {},
   "outputs": [],
   "source": []
  },
  {
   "cell_type": "code",
   "execution_count": null,
   "metadata": {},
   "outputs": [],
   "source": []
  },
  {
   "cell_type": "code",
   "execution_count": null,
   "metadata": {},
   "outputs": [],
   "source": []
  },
  {
   "cell_type": "code",
   "execution_count": 7,
   "metadata": {},
   "outputs": [],
   "source": []
  },
  {
   "cell_type": "code",
   "execution_count": null,
   "metadata": {},
   "outputs": [],
   "source": []
  },
  {
   "cell_type": "code",
   "execution_count": null,
   "metadata": {},
   "outputs": [],
   "source": []
  },
  {
   "cell_type": "code",
   "execution_count": 11,
   "metadata": {},
   "outputs": [],
   "source": []
  },
  {
   "cell_type": "code",
   "execution_count": 16,
   "metadata": {},
   "outputs": [],
   "source": [
    "# !pip install pyttsx3"
   ]
  },
  {
   "cell_type": "code",
   "execution_count": null,
   "metadata": {},
   "outputs": [],
   "source": []
  },
  {
   "cell_type": "code",
   "execution_count": null,
   "metadata": {},
   "outputs": [],
   "source": []
  },
  {
   "cell_type": "code",
   "execution_count": 21,
   "metadata": {},
   "outputs": [],
   "source": []
  },
  {
   "cell_type": "code",
   "execution_count": 50,
   "metadata": {},
   "outputs": [],
   "source": [
    "\n",
    "\n",
    "# Usage"
   ]
  },
  {
   "cell_type": "code",
   "execution_count": null,
   "metadata": {},
   "outputs": [],
   "source": []
  },
  {
   "cell_type": "code",
   "execution_count": null,
   "metadata": {},
   "outputs": [],
   "source": []
  },
  {
   "cell_type": "code",
   "execution_count": null,
   "metadata": {
    "vscode": {
     "languageId": "shellscript"
    }
   },
   "outputs": [],
   "source": [
    "!pip install pygame\n",
    "!pip install pydub sounddevice numpy\n",
    "brew update\n",
    "brew install portaudio\n",
    "pip install pyaudio\n",
    "pip install googletrans\n",
    "pip install deep-translator\n",
    "pip install google-cloud-translate"
   ]
  },
  {
   "cell_type": "code",
   "execution_count": 7,
   "metadata": {
    "vscode": {
     "languageId": "shellscript"
    }
   },
   "outputs": [
    {
     "ename": "SyntaxError",
     "evalue": "invalid syntax (3400687546.py, line 1)",
     "output_type": "error",
     "traceback": [
      "\u001b[0;36m  Cell \u001b[0;32mIn[7], line 1\u001b[0;36m\u001b[0m\n\u001b[0;31m    brew install portaudio\u001b[0m\n\u001b[0m         ^\u001b[0m\n\u001b[0;31mSyntaxError\u001b[0m\u001b[0;31m:\u001b[0m invalid syntax\n"
     ]
    }
   ],
   "source": []
  }
 ],
 "metadata": {
  "kernelspec": {
   "display_name": "base",
   "language": "python",
   "name": "python3"
  },
  "language_info": {
   "codemirror_mode": {
    "name": "ipython",
    "version": 3
   },
   "file_extension": ".py",
   "mimetype": "text/x-python",
   "name": "python",
   "nbconvert_exporter": "python",
   "pygments_lexer": "ipython3",
   "version": "3.10.9"
  }
 },
 "nbformat": 4,
 "nbformat_minor": 2
}
